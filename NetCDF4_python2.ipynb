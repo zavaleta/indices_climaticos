{
  "nbformat": 4,
  "nbformat_minor": 0,
  "metadata": {
    "colab": {
      "name": "NetCDF4_python2.ipynb",
      "version": "0.3.2",
      "provenance": [],
      "include_colab_link": true
    },
    "kernelspec": {
      "name": "python2",
      "display_name": "Python 2"
    }
  },
  "cells": [
    {
      "cell_type": "markdown",
      "metadata": {
        "id": "view-in-github",
        "colab_type": "text"
      },
      "source": [
        "<a href=\"https://colab.research.google.com/github/zavaleta/indices_climaticos/blob/master/NetCDF4_python2.ipynb\" target=\"_parent\"><img src=\"https://colab.research.google.com/assets/colab-badge.svg\" alt=\"Open In Colab\"/></a>"
      ]
    },
    {
      "metadata": {
        "id": "6jc3P0uj5xCM",
        "colab_type": "text"
      },
      "cell_type": "markdown",
      "source": [
        "# NetCDF4"
      ]
    },
    {
      "metadata": {
        "id": "TrEWgvlk8J0g",
        "colab_type": "code",
        "colab": {
          "base_uri": "https://localhost:8080/",
          "height": 190
        },
        "outputId": "9c36d0e6-e273-4e25-b5b0-54e720008c54"
      },
      "cell_type": "code",
      "source": [
        "!pip install netcdf4"
      ],
      "execution_count": 5,
      "outputs": [
        {
          "output_type": "stream",
          "text": [
            "Collecting netcdf4\n",
            "\u001b[?25l  Downloading https://files.pythonhosted.org/packages/b7/c4/549b250f364efc80d14c24f0e53e535c9a51f745078d8757ceb4b6bcbb49/netCDF4-1.5.0.1-cp27-cp27mu-manylinux1_x86_64.whl (3.9MB)\n",
            "\u001b[K    100% |████████████████████████████████| 3.9MB 4.4MB/s \n",
            "\u001b[?25hRequirement already satisfied: numpy>=1.7 in /usr/local/lib/python2.7/dist-packages (from netcdf4) (1.14.6)\n",
            "Collecting cftime (from netcdf4)\n",
            "\u001b[?25l  Downloading https://files.pythonhosted.org/packages/c8/9f/dc02843e350550bc2a0522d36314e995891a8715934359dbe842dcc1920d/cftime-1.0.3.4-cp27-cp27mu-manylinux1_x86_64.whl (283kB)\n",
            "\u001b[K    100% |████████████████████████████████| 286kB 25.6MB/s \n",
            "\u001b[?25hInstalling collected packages: cftime, netcdf4\n",
            "Successfully installed cftime-1.0.3.4 netcdf4-1.5.0.1\n"
          ],
          "name": "stdout"
        }
      ]
    },
    {
      "metadata": {
        "id": "ezP8ypLJ5u6C",
        "colab_type": "code",
        "colab": {
          "base_uri": "https://localhost:8080/",
          "height": 54
        },
        "outputId": "12689b23-e3eb-4369-8e99-b8ad45cb8494"
      },
      "cell_type": "code",
      "source": [
        "sampledata = 'http://dapds00.nci.org.au/thredds/dodsC/rr3/CMIP5/output1/CSIRO-BOM/ACCESS1-0/amip/mon/atmos/Amon/r1i1p1/latest/tas/tas_Amon_ACCESS1-0_amip_r1i1p1_197901-200812.nc'\n",
        "sampledata"
      ],
      "execution_count": 15,
      "outputs": [
        {
          "output_type": "execute_result",
          "data": {
            "text/plain": [
              "'http://dapds00.nci.org.au/thredds/dodsC/rr3/CMIP5/output1/CSIRO-BOM/ACCESS1-0/amip/mon/atmos/Amon/r1i1p1/latest/tas/tas_Amon_ACCESS1-0_amip_r1i1p1_197901-200812.nc'"
            ]
          },
          "metadata": {
            "tags": []
          },
          "execution_count": 15
        }
      ]
    },
    {
      "metadata": {
        "id": "R-YhQJ4q7I3l",
        "colab_type": "text"
      },
      "cell_type": "markdown",
      "source": [
        "## Xarray"
      ]
    },
    {
      "metadata": {
        "id": "sYVbKV4R7NtP",
        "colab_type": "text"
      },
      "cell_type": "markdown",
      "source": [
        "Xarray works with file formats other than NetCDF as well, so some features like compression settings can be inconvenient to set."
      ]
    },
    {
      "metadata": {
        "id": "2nhXkShJ7c2u",
        "colab_type": "code",
        "colab": {
          "base_uri": "https://localhost:8080/",
          "height": 608
        },
        "outputId": "9b18df80-8914-4aa3-8528-86e62a205668"
      },
      "cell_type": "code",
      "source": [
        "import xarray\n",
        "\n",
        "# Open a file\n",
        "data = xarray.open_dataset(sampledata)\n",
        "\n",
        "# Variables can be accessed either as properties or as a dict\n",
        "surface_temperature = data.tas\n",
        "surface_temperature = data['tas']\n",
        "\n",
        "print(\"Variable:\\n\", surface_temperature)\n",
        "\n",
        "# Same for attributes\n",
        "units = surface_temperature.units\n",
        "units = surface_temperature.attrs['units']\n",
        "\n",
        "print()\n",
        "print(\"Attribute:\\n\", units)\n",
        "\n",
        "# Variables can be indexed numpy-style or pandas-style\n",
        "d = surface_temperature[0, 0:10, 0:10]\n",
        "d = surface_temperature.isel(time=0, lat=slice(0,10), lon=slice(0,10))\n",
        "d = surface_temperature.sel(time='19790116T1200', lat=slice(-90,-80), lon=slice(0,20))\n",
        "\n",
        "# Data can be saved to a new file easily\n",
        "data.to_netcdf('data.nc')"
      ],
      "execution_count": 2,
      "outputs": [
        {
          "output_type": "error",
          "ename": "ValueError",
          "evalue": "ignored",
          "traceback": [
            "\u001b[0;31m\u001b[0m",
            "\u001b[0;31mValueError\u001b[0mTraceback (most recent call last)",
            "\u001b[0;32m<ipython-input-2-c9b33299d65a>\u001b[0m in \u001b[0;36m<module>\u001b[0;34m()\u001b[0m\n\u001b[1;32m      2\u001b[0m \u001b[0;34m\u001b[0m\u001b[0m\n\u001b[1;32m      3\u001b[0m \u001b[0;31m# Open a file\u001b[0m\u001b[0;34m\u001b[0m\u001b[0;34m\u001b[0m\u001b[0m\n\u001b[0;32m----> 4\u001b[0;31m \u001b[0mdata\u001b[0m \u001b[0;34m=\u001b[0m \u001b[0mxarray\u001b[0m\u001b[0;34m.\u001b[0m\u001b[0mopen_dataset\u001b[0m\u001b[0;34m(\u001b[0m\u001b[0msampledata\u001b[0m\u001b[0;34m)\u001b[0m\u001b[0;34m\u001b[0m\u001b[0m\n\u001b[0m\u001b[1;32m      5\u001b[0m \u001b[0;34m\u001b[0m\u001b[0m\n\u001b[1;32m      6\u001b[0m \u001b[0;31m# Variables can be accessed either as properties or as a dict\u001b[0m\u001b[0;34m\u001b[0m\u001b[0;34m\u001b[0m\u001b[0m\n",
            "\u001b[0;32m/usr/local/lib/python2.7/dist-packages/xarray/backends/api.pyc\u001b[0m in \u001b[0;36mopen_dataset\u001b[0;34m(filename_or_obj, group, decode_cf, mask_and_scale, decode_times, autoclose, concat_characters, decode_coords, engine, chunks, lock, cache, drop_variables, backend_kwargs)\u001b[0m\n\u001b[1;32m    316\u001b[0m         \u001b[0;32mif\u001b[0m \u001b[0mengine\u001b[0m \u001b[0;32mis\u001b[0m \u001b[0mNone\u001b[0m\u001b[0;34m:\u001b[0m\u001b[0;34m\u001b[0m\u001b[0m\n\u001b[1;32m    317\u001b[0m             engine = _get_default_engine(filename_or_obj,\n\u001b[0;32m--> 318\u001b[0;31m                                          allow_remote=True)\n\u001b[0m\u001b[1;32m    319\u001b[0m         \u001b[0;32mif\u001b[0m \u001b[0mengine\u001b[0m \u001b[0;34m==\u001b[0m \u001b[0;34m'netcdf4'\u001b[0m\u001b[0;34m:\u001b[0m\u001b[0;34m\u001b[0m\u001b[0m\n\u001b[1;32m    320\u001b[0m             store = backends.NetCDF4DataStore.open(\n",
            "\u001b[0;32m/usr/local/lib/python2.7/dist-packages/xarray/backends/api.pyc\u001b[0m in \u001b[0;36m_get_default_engine\u001b[0;34m(path, allow_remote)\u001b[0m\n\u001b[1;32m     80\u001b[0m \u001b[0;32mdef\u001b[0m \u001b[0m_get_default_engine\u001b[0m\u001b[0;34m(\u001b[0m\u001b[0mpath\u001b[0m\u001b[0;34m,\u001b[0m \u001b[0mallow_remote\u001b[0m\u001b[0;34m=\u001b[0m\u001b[0mFalse\u001b[0m\u001b[0;34m)\u001b[0m\u001b[0;34m:\u001b[0m\u001b[0;34m\u001b[0m\u001b[0m\n\u001b[1;32m     81\u001b[0m     \u001b[0;32mif\u001b[0m \u001b[0mallow_remote\u001b[0m \u001b[0;32mand\u001b[0m \u001b[0mis_remote_uri\u001b[0m\u001b[0;34m(\u001b[0m\u001b[0mpath\u001b[0m\u001b[0;34m)\u001b[0m\u001b[0;34m:\u001b[0m\u001b[0;34m\u001b[0m\u001b[0m\n\u001b[0;32m---> 82\u001b[0;31m         \u001b[0mengine\u001b[0m \u001b[0;34m=\u001b[0m \u001b[0m_get_default_engine_remote_uri\u001b[0m\u001b[0;34m(\u001b[0m\u001b[0;34m)\u001b[0m\u001b[0;34m\u001b[0m\u001b[0m\n\u001b[0m\u001b[1;32m     83\u001b[0m     \u001b[0;32melif\u001b[0m \u001b[0mis_grib_path\u001b[0m\u001b[0;34m(\u001b[0m\u001b[0mpath\u001b[0m\u001b[0;34m)\u001b[0m\u001b[0;34m:\u001b[0m\u001b[0;34m\u001b[0m\u001b[0m\n\u001b[1;32m     84\u001b[0m         \u001b[0mengine\u001b[0m \u001b[0;34m=\u001b[0m \u001b[0m_get_default_engine_grib\u001b[0m\u001b[0;34m(\u001b[0m\u001b[0;34m)\u001b[0m\u001b[0;34m\u001b[0m\u001b[0m\n",
            "\u001b[0;32m/usr/local/lib/python2.7/dist-packages/xarray/backends/api.pyc\u001b[0m in \u001b[0;36m_get_default_engine_remote_uri\u001b[0;34m()\u001b[0m\n\u001b[1;32m     31\u001b[0m             \u001b[0mengine\u001b[0m \u001b[0;34m=\u001b[0m \u001b[0;34m'pydap'\u001b[0m\u001b[0;34m\u001b[0m\u001b[0m\n\u001b[1;32m     32\u001b[0m         \u001b[0;32mexcept\u001b[0m \u001b[0mImportError\u001b[0m\u001b[0;34m:\u001b[0m\u001b[0;34m\u001b[0m\u001b[0m\n\u001b[0;32m---> 33\u001b[0;31m             raise ValueError('netCDF4 or pydap is required for accessing '\n\u001b[0m\u001b[1;32m     34\u001b[0m                              'remote datasets via OPeNDAP')\n\u001b[1;32m     35\u001b[0m     \u001b[0;32mreturn\u001b[0m \u001b[0mengine\u001b[0m\u001b[0;34m\u001b[0m\u001b[0m\n",
            "\u001b[0;31mValueError\u001b[0m: netCDF4 or pydap is required for accessing remote datasets via OPeNDAP"
          ]
        }
      ]
    },
    {
      "metadata": {
        "id": "H07U6g-A738Y",
        "colab_type": "text"
      },
      "cell_type": "markdown",
      "source": [
        "# NetCDF4"
      ]
    },
    {
      "metadata": {
        "id": "PEMMD5fc7615",
        "colab_type": "text"
      },
      "cell_type": "markdown",
      "source": [
        "The netCDF4 library is a bare-bones library for working with NetCDF data. It doesn't have the bells and whistles of Xarray, but unlike Xarray it's a dedicated library, so features like compression and scale-and-offest are simpler to access."
      ]
    },
    {
      "metadata": {
        "id": "TzQ7PDGF7_Vf",
        "colab_type": "code",
        "colab": {
          "base_uri": "https://localhost:8080/",
          "height": 326
        },
        "outputId": "5b80fabf-e771-4087-bf53-f52190236eda"
      },
      "cell_type": "code",
      "source": [
        "import netCDF4\n",
        "\n",
        "data = netCDF4.Dataset(sampledata)\n",
        "\n",
        "# Variables can be accessed like a dict\n",
        "surface_temperature = data['tas']\n",
        "surface_temperature = data.variables['tas']\n",
        "\n",
        "print(\"Variable:\\n\", surface_temperature)\n",
        "\n",
        "# Attributes are accessed as properties of a variable\n",
        "units = surface_temperature.units\n",
        "\n",
        "print(\"Attribute:\\n\", units)\n",
        "\n",
        "# Variables can be indexed numpy-style\n",
        "data = surface_temperature[0, 0:10, 0:10]\n",
        "\n",
        "# Data can't be copied to a new file easily"
      ],
      "execution_count": 7,
      "outputs": [
        {
          "output_type": "stream",
          "text": [
            "('Variable:\\n', <type 'netCDF4._netCDF4.Variable'>\n",
            "float32 tas(time, lat, lon)\n",
            "    standard_name: air_temperature\n",
            "    long_name: Near-Surface Air Temperature\n",
            "    units: K\n",
            "    cell_methods: time: mean\n",
            "    cell_measures: area: areacella\n",
            "    history: 2012-02-17T05:21:51Z altered by CMOR: Treated scalar dimension: 'height'. 2012-02-17T05:21:51Z altered by CMOR: replaced missing value flag (-1.07374e+09) with standard missing value (1e+20).\n",
            "    coordinates: height\n",
            "    missing_value: 1e+20\n",
            "    _FillValue: 1e+20\n",
            "    associated_files: baseURL: http://cmip-pcmdi.llnl.gov/CMIP5/dataLocation gridspecFile: gridspec_atmos_fx_ACCESS1-0_amip_r0i0p0.nc areacella: areacella_fx_ACCESS1-0_amip_r0i0p0.nc\n",
            "unlimited dimensions: time\n",
            "current shape = (360, 145, 192)\n",
            "filling off\n",
            ")\n",
            "('Attribute:\\n', u'K')\n"
          ],
          "name": "stdout"
        }
      ]
    },
    {
      "metadata": {
        "id": "S62viaQl8pVU",
        "colab_type": "text"
      },
      "cell_type": "markdown",
      "source": [
        "# Iris\n",
        "https://scitools.org.uk/iris\n",
        "\n",
        "\n",
        "While Xarray and netCDF4 both work similarly, the Iris library works a bit differently. Rather than accessing variables like a dictionary, Iris uses a list with a special function to get a variable by name. It also prefers using CF standard names, some special trickery is requried to get the variable by its name in the file.\n",
        "\n",
        "Iris also keeps the file-level attributes with each of the variables - you can see below that it lists things like the title and metadata conventions"
      ]
    },
    {
      "metadata": {
        "id": "R_qHs_KJ9yBR",
        "colab_type": "code",
        "colab": {
          "base_uri": "https://localhost:8080/",
          "height": 105
        },
        "outputId": "abe82ffc-b78d-41b6-d79d-601ac0927cae"
      },
      "cell_type": "code",
      "source": [
        "!pip install iris"
      ],
      "execution_count": 11,
      "outputs": [
        {
          "output_type": "stream",
          "text": [
            "Collecting iris\n",
            "  Downloading https://files.pythonhosted.org/packages/55/c7/f2ff50fa65253d98eea6c25cdd30b0033dd0484dfa42b820f8af09c8f044/iris-1.0.4-py2-none-any.whl\n",
            "Installing collected packages: iris\n",
            "Successfully installed iris-1.0.4\n"
          ],
          "name": "stdout"
        }
      ]
    },
    {
      "metadata": {
        "id": "QwRSjHI782My",
        "colab_type": "code",
        "colab": {
          "base_uri": "https://localhost:8080/",
          "height": 639
        },
        "outputId": "f4074fbd-95b5-4385-9d7b-8b09b9208196"
      },
      "cell_type": "code",
      "source": [
        "import iris\n",
        "\n",
        "data = iris.load(sampledata)\n",
        "\n",
        "# Variables can be accessed like a list\n",
        "surface_temperature = data[0]\n",
        "\n",
        "# Iris prefers to use the standard_name to identify variables\n",
        "surface_temperature = data.extract_strict('air_temperature')\n",
        "\n",
        "# Getting variables by their own name can be done, but is complicated\n",
        "surface_temperature = data.extract_strict(iris.Constraint(cube_func = lambda c: c.var_name == 'tas'))\n",
        "\n",
        "print(\"Variable:\\n\", surface_temperature)\n",
        "\n",
        "# Attributes can be accessed as properties\n",
        "units = surface_temperature.units\n",
        "\n",
        "print()\n",
        "print(\"Attribute:\\n\", units)\n",
        "\n",
        "# Variables can be indexed numpy-style or by special constraint objects\n",
        "data = surface_temperature[0, 0:10, 0:10]\n",
        "data = surface_temperature.extract(iris.Constraint(latitude=lambda x: 0 < x < 20))\n",
        "\n",
        "# Data can be saved to a new file\n",
        "iris.save(data, 'data.nc')"
      ],
      "execution_count": 12,
      "outputs": [
        {
          "output_type": "stream",
          "text": [
            "ERROR:root:An unexpected error occurred while tokenizing input\n",
            "The following traceback may be corrupted or invalid\n",
            "The error message is: ('EOF in multi-line string', (1, 0))\n",
            "\n"
          ],
          "name": "stderr"
        },
        {
          "output_type": "error",
          "ename": "RuntimeError",
          "evalue": "ignored",
          "traceback": [
            "\u001b[0;31m\u001b[0m",
            "\u001b[0;31mRuntimeError\u001b[0mTraceback (most recent call last)",
            "\u001b[0;32m<ipython-input-12-a75a7fe5e704>\u001b[0m in \u001b[0;36m<module>\u001b[0;34m()\u001b[0m\n\u001b[0;32m----> 1\u001b[0;31m \u001b[0;32mimport\u001b[0m \u001b[0miris\u001b[0m\u001b[0;34m\u001b[0m\u001b[0m\n\u001b[0m\u001b[1;32m      2\u001b[0m \u001b[0;34m\u001b[0m\u001b[0m\n\u001b[1;32m      3\u001b[0m \u001b[0mdata\u001b[0m \u001b[0;34m=\u001b[0m \u001b[0miris\u001b[0m\u001b[0;34m.\u001b[0m\u001b[0mload\u001b[0m\u001b[0;34m(\u001b[0m\u001b[0msampledata\u001b[0m\u001b[0;34m)\u001b[0m\u001b[0;34m\u001b[0m\u001b[0m\n\u001b[1;32m      4\u001b[0m \u001b[0;34m\u001b[0m\u001b[0m\n\u001b[1;32m      5\u001b[0m \u001b[0;31m# Variables can be accessed like a list\u001b[0m\u001b[0;34m\u001b[0m\u001b[0;34m\u001b[0m\u001b[0m\n",
            "\u001b[0;32m/usr/local/lib/python2.7/dist-packages/iris/__init__.py\u001b[0m in \u001b[0;36m<module>\u001b[0;34m()\u001b[0m\n\u001b[1;32m     16\u001b[0m     \u001b[0;34m-\u001b[0m \u001b[0mhttps\u001b[0m\u001b[0;34m:\u001b[0m\u001b[0;34m//\u001b[0m\u001b[0mpypi\u001b[0m\u001b[0;34m.\u001b[0m\u001b[0mpython\u001b[0m\u001b[0;34m.\u001b[0m\u001b[0morg\u001b[0m\u001b[0;34m/\u001b[0m\u001b[0mpypi\u001b[0m\u001b[0;34m/\u001b[0m\u001b[0minfo\u001b[0m\u001b[0;34m.\u001b[0m\u001b[0mgianlucacosta\u001b[0m\u001b[0;34m.\u001b[0m\u001b[0miris\u001b[0m\u001b[0;34m\u001b[0m\u001b[0m\n\u001b[1;32m     17\u001b[0m \u001b[0;34m\u001b[0m\u001b[0m\n\u001b[0;32m---> 18\u001b[0;31m \"\"\")\n\u001b[0m",
            "\u001b[0;31mRuntimeError\u001b[0m: \n\nAmbiguous 'iris' package.\nPlease use either:\n  illumon-iris - Python integration for Illumon Iris, a time-series database\n     - pip install illumon-iris\n     - https://pypi.python.org/pypi/illumon-iris\n     - https://www.illumon.com/\n\n  SciTools Iris - Python library for analysing and visualising meteorological and oceanographic data sets\n    - http://scitools.org.uk/iris/\n\n  info.gianlucacosta.iris - A general-purpose library for Python\n    - pip install info.gianlucacosta.iris\n    - https://pypi.python.org/pypi/info.gianlucacosta.iris\n\n"
          ]
        }
      ]
    }
  ]
}